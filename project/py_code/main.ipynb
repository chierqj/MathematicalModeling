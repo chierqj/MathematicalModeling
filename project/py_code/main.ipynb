{
 "cells": [
  {
   "cell_type": "code",
   "execution_count": 18,
   "metadata": {},
   "outputs": [
    {
     "name": "stdout",
     "output_type": "stream",
     "text": [
      "(12712.84, 53865.15, 4887.55, 0, 1, 163)\n",
      "176568330.3906\n",
      "13287.901654911508 163 ( 13.29 13.29 ) ( 0 1 )\n",
      "(17780.02, 52287.88, 5425.18, 1, 1, 114)\n",
      "28453139.822200015\n",
      "5334.148462707053 114 ( 18.62 5.33 ) ( 1 1 )\n",
      "(22266.29, 52391.96, 6053.27, 0, 1, 234)\n",
      "20531948.2074\n",
      "4531.219284850381 234 ( 4.53 9.87 ) ( 0 1 )\n",
      "(26842.64, 57779.43, 7803.91, 1, 1, 222)\n",
      "53032552.732999995\n",
      "7282.3452769695 222 ( 11.81 7.28 ) ( 1 1 )\n",
      "(28165.24, 61559.66, 5480.81, 0, 1, 8)\n",
      "21436203.222900026\n",
      "4629.924753481424 8 ( 4.63 11.91 ) ( 0 1 )\n",
      "(33371.04, 59710.97, 5490.94, 1, 1, 309)\n",
      "30518110.973\n",
      "5524.319955704956 309 ( 10.15 5.52 ) ( 1 1 )\n",
      "(38934.35, 57664.73, 4792.31, 0, 1, 305)\n",
      "35625600.17059997\n",
      "5968.718469705199 305 ( 5.97 11.49 ) ( 0 1 )\n",
      "(47236.34, 61603.81, 5322.93, 1, 1, 123)\n",
      "84720946.79089992\n",
      "9204.398230786188 123 ( 15.17 9.20 ) ( 1 1 )\n",
      "(55874.1, 65143.36, 6705.83, 0, 1, 231)\n",
      "89051724.43010005\n",
      "9436.722123179215 231 ( 9.44 18.64 ) ( 0 1 )\n",
      "(64420.22, 64125.83, 5321.06, 1, 1, 160)\n",
      "75989122.30820003\n",
      "8717.173986344429 160 ( 18.15 8.72 ) ( 1 1 )\n",
      "(69704.89, 66433.09, 4985.05, 0, 1, 92)\n",
      "33364088.43659996\n",
      "5776.16554788728 92 ( 5.78 14.49 ) ( 0 1 )\n",
      "(79005.75, 68248.83, 5381.18, 1, 1, 93)\n",
      "89959827.46410003\n",
      "9484.715465637335 93 ( 15.26 9.48 ) ( 1 1 )\n",
      "(81748.55, 71186.88, 534.4, 0, 0, 38)\n",
      "39646366.010900036\n",
      "6296.536032684959 38 ( 6.30 15.78 ) ( 0 0 )\n",
      "(83522.47, 74687.82, 654.17, 1, 0, 110)\n",
      "15417717.902900012\n",
      "3926.5401949935535 110 ( 10.22 3.93 ) ( 1 0 )\n",
      "(92711.21, 75096.72, 848.45, 0, 0, 99)\n",
      "84637886.7160001\n",
      "9199.885146891786 99 ( 9.20 13.13 ) ( 0 0 )\n",
      "(100000.0, 74860.55, 5499.61, -66, 0, 391)\n",
      "74815525.2785999\n",
      "8649.596827517447 391 ( 17.85 8.65 ) ( -66 0 )\n",
      "sum:  117250.31141425221\n"
     ]
    }
   ],
   "source": [
    "import pandas as pd\n",
    "\n",
    "\n",
    "df = pd.read_table(\"../data/问题二/数据集2指标2/ga.txt\", header=0, sep=\" \")\n",
    "df = df.iloc[:, [True, True, True, True, True, True, False]]\n",
    "df.columns = [\"index\", \"x\", \"y\", \"z\", \"fixLabel\", \"fixError\"]\n",
    "df.head()\n",
    "\n",
    "e1, e2 = 0, 0\n",
    "\n",
    "ans = []\n",
    "for it in df.itertuples():\n",
    "    ans.append((it.x, it.y, it.z, it.fixLabel, it.fixError, it.index))\n",
    "\n",
    "su = 0\n",
    "for index, it in enumerate(ans):\n",
    "    if index == 0:\n",
    "        continue\n",
    "    p1 = ans[index - 1]\n",
    "    \n",
    "    d = 0\n",
    "    print(it)\n",
    "    for i in range(3):\n",
    "        d += (it[i] - p1[i])**2\n",
    "    import math\n",
    "    print(d)\n",
    "    d = math.sqrt(d)\n",
    "    print(d, end=\" \")\n",
    "    su += d\n",
    "    \n",
    "    d *= 0.001\n",
    "    \n",
    "    e1 += d\n",
    "    e2 += d\n",
    "    \n",
    "    print(it[5], \"(\", \"%.2f\" % e1, \"%.2f\" % e2, \") (\", it[3], it[4], \")\")    \n",
    "    \n",
    "    if it[3] == 1:\n",
    "        e1 = 0\n",
    "    if it[3] == 0:\n",
    "        e2 = 0\n",
    "print(\"sum: \", su)"
   ]
  },
  {
   "cell_type": "code",
   "execution_count": 2,
   "metadata": {
    "scrolled": false
   },
   "outputs": [
    {
     "data": {
      "text/plain": [
       "<Figure size 1500x800 with 2 Axes>"
      ]
     },
     "metadata": {},
     "output_type": "display_data"
    },
    {
     "data": {
      "text/plain": [
       "<Figure size 1500x800 with 2 Axes>"
      ]
     },
     "metadata": {},
     "output_type": "display_data"
    },
    {
     "data": {
      "text/plain": [
       "<Figure size 1500x800 with 2 Axes>"
      ]
     },
     "metadata": {},
     "output_type": "display_data"
    },
    {
     "data": {
      "text/plain": [
       "<Figure size 1500x800 with 2 Axes>"
      ]
     },
     "metadata": {},
     "output_type": "display_data"
    },
    {
     "data": {
      "text/plain": [
       "<Figure size 1500x800 with 2 Axes>"
      ]
     },
     "metadata": {},
     "output_type": "display_data"
    },
    {
     "data": {
      "text/plain": [
       "<Figure size 1500x800 with 2 Axes>"
      ]
     },
     "metadata": {},
     "output_type": "display_data"
    },
    {
     "data": {
      "text/plain": [
       "<Figure size 1500x800 with 2 Axes>"
      ]
     },
     "metadata": {},
     "output_type": "display_data"
    },
    {
     "data": {
      "text/plain": [
       "<Figure size 1500x800 with 2 Axes>"
      ]
     },
     "metadata": {},
     "output_type": "display_data"
    },
    {
     "data": {
      "text/plain": [
       "<Figure size 1500x800 with 2 Axes>"
      ]
     },
     "metadata": {},
     "output_type": "display_data"
    },
    {
     "data": {
      "text/plain": [
       "<Figure size 1500x800 with 2 Axes>"
      ]
     },
     "metadata": {},
     "output_type": "display_data"
    },
    {
     "data": {
      "text/plain": [
       "<Figure size 1500x800 with 2 Axes>"
      ]
     },
     "metadata": {},
     "output_type": "display_data"
    },
    {
     "data": {
      "text/plain": [
       "<Figure size 1500x800 with 2 Axes>"
      ]
     },
     "metadata": {},
     "output_type": "display_data"
    },
    {
     "name": "stderr",
     "output_type": "stream",
     "text": [
      "/Library/Frameworks/Python.framework/Versions/3.6/lib/python3.6/site-packages/ipykernel_launcher.py:34: DeprecationWarning: `spline` is deprecated!\n",
      "spline is deprecated in scipy 0.19.0, use Bspline class instead.\n",
      "/Library/Frameworks/Python.framework/Versions/3.6/lib/python3.6/site-packages/ipykernel_launcher.py:35: DeprecationWarning: `spline` is deprecated!\n",
      "spline is deprecated in scipy 0.19.0, use Bspline class instead.\n"
     ]
    },
    {
     "data": {
      "text/plain": [
       "<Figure size 1500x800 with 2 Axes>"
      ]
     },
     "metadata": {},
     "output_type": "display_data"
    },
    {
     "data": {
      "text/plain": [
       "<Figure size 1500x800 with 2 Axes>"
      ]
     },
     "metadata": {},
     "output_type": "display_data"
    },
    {
     "data": {
      "text/plain": [
       "<Figure size 1500x800 with 2 Axes>"
      ]
     },
     "metadata": {},
     "output_type": "display_data"
    },
    {
     "data": {
      "text/plain": [
       "<Figure size 1500x800 with 2 Axes>"
      ]
     },
     "metadata": {},
     "output_type": "display_data"
    },
    {
     "data": {
      "text/plain": [
       "<Figure size 1500x800 with 2 Axes>"
      ]
     },
     "metadata": {},
     "output_type": "display_data"
    },
    {
     "data": {
      "text/plain": [
       "<Figure size 1500x800 with 2 Axes>"
      ]
     },
     "metadata": {},
     "output_type": "display_data"
    },
    {
     "data": {
      "text/plain": [
       "<Figure size 1500x800 with 2 Axes>"
      ]
     },
     "metadata": {},
     "output_type": "display_data"
    },
    {
     "data": {
      "text/plain": [
       "<Figure size 1500x800 with 2 Axes>"
      ]
     },
     "metadata": {},
     "output_type": "display_data"
    },
    {
     "data": {
      "text/plain": [
       "<Figure size 1500x800 with 2 Axes>"
      ]
     },
     "metadata": {},
     "output_type": "display_data"
    },
    {
     "data": {
      "text/plain": [
       "<Figure size 1500x800 with 2 Axes>"
      ]
     },
     "metadata": {},
     "output_type": "display_data"
    },
    {
     "data": {
      "text/plain": [
       "<Figure size 1500x800 with 2 Axes>"
      ]
     },
     "metadata": {},
     "output_type": "display_data"
    },
    {
     "data": {
      "text/plain": [
       "<Figure size 1500x800 with 2 Axes>"
      ]
     },
     "metadata": {},
     "output_type": "display_data"
    },
    {
     "data": {
      "text/plain": [
       "<Figure size 1500x800 with 2 Axes>"
      ]
     },
     "metadata": {},
     "output_type": "display_data"
    },
    {
     "data": {
      "text/plain": [
       "<Figure size 1500x800 with 2 Axes>"
      ]
     },
     "metadata": {},
     "output_type": "display_data"
    },
    {
     "data": {
      "text/plain": [
       "<Figure size 1500x800 with 2 Axes>"
      ]
     },
     "metadata": {},
     "output_type": "display_data"
    },
    {
     "data": {
      "text/plain": [
       "<Figure size 1500x800 with 2 Axes>"
      ]
     },
     "metadata": {},
     "output_type": "display_data"
    },
    {
     "data": {
      "text/plain": [
       "<Figure size 1500x800 with 2 Axes>"
      ]
     },
     "metadata": {},
     "output_type": "display_data"
    },
    {
     "data": {
      "text/plain": [
       "<Figure size 1500x800 with 2 Axes>"
      ]
     },
     "metadata": {},
     "output_type": "display_data"
    },
    {
     "data": {
      "text/plain": [
       "<Figure size 1500x800 with 2 Axes>"
      ]
     },
     "metadata": {},
     "output_type": "display_data"
    },
    {
     "data": {
      "text/plain": [
       "<Figure size 1500x800 with 2 Axes>"
      ]
     },
     "metadata": {},
     "output_type": "display_data"
    },
    {
     "data": {
      "text/plain": [
       "<Figure size 1500x800 with 2 Axes>"
      ]
     },
     "metadata": {},
     "output_type": "display_data"
    },
    {
     "data": {
      "text/plain": [
       "<Figure size 1500x800 with 2 Axes>"
      ]
     },
     "metadata": {},
     "output_type": "display_data"
    },
    {
     "data": {
      "text/plain": [
       "<Figure size 1500x800 with 2 Axes>"
      ]
     },
     "metadata": {},
     "output_type": "display_data"
    },
    {
     "data": {
      "text/plain": [
       "<Figure size 1500x800 with 2 Axes>"
      ]
     },
     "metadata": {},
     "output_type": "display_data"
    }
   ],
   "source": [
    "# coding: utf8\n",
    "from mpl_toolkits.mplot3d import Axes3D\n",
    "import numpy as np\n",
    "import matplotlib.pyplot as plt\n",
    "import pandas as pd\n",
    "from scipy.interpolate import spline\n",
    "import matplotlib as mpl\n",
    "\n",
    "# mpl.rcParams['legend.fontsize'] = 12\n",
    "\n",
    "index = 0\n",
    "\n",
    "\n",
    "def draw(df, path):\n",
    "    fig = plt.figure(figsize=(15, 8))\n",
    "    ax = fig.gca(projection='3d')\n",
    "    ax = fig.add_subplot(111, projection = '3d')\n",
    "\n",
    "\n",
    "    global index\n",
    "    index += 1\n",
    "\n",
    "    if index >= 13 and index <= 24:\n",
    "        # 画路径\n",
    "        figure = ax.plot(\n",
    "            df.x.values[:2],\n",
    "            df.y.values[:2],\n",
    "            df.z.values[:2],\n",
    "            c=\"black\",\n",
    "            label=\"path\",\n",
    "            linewidth='2')\n",
    "\n",
    "        x_new = np.linspace(df[df.fixLabel != -6].x.min(), df.x.max(), 300)\n",
    "        y_smooth = spline(df.x, df.y, x_new)\n",
    "        z_smooth = spline(df.x, df.z, x_new)\n",
    "\n",
    "        # 画路径\n",
    "        figure = ax.plot(\n",
    "            x_new, y_smooth, z_smooth, c=\"red\", label=\"path\", linewidth='2')\n",
    "        # 打点\n",
    "        ax.scatter(\n",
    "            df.x,\n",
    "            df.y,\n",
    "            df.z,\n",
    "            color='black',\n",
    "            marker='.',\n",
    "            label=\"end\",\n",
    "            alpha=1.0,\n",
    "            s=60)\n",
    "    else:\n",
    "        # 画路径\n",
    "        figure = ax.plot(\n",
    "            df.x,\n",
    "            df.y,\n",
    "            df.z,\n",
    "            c=\"black\",\n",
    "            label=\"path\",\n",
    "            linewidth='2',\n",
    "            markersize=10,\n",
    "            marker='.')\n",
    "\n",
    "    # 画起点\n",
    "    ax.scatter(\n",
    "        df[df.fixLabel == -6].x,\n",
    "        df[df.fixLabel == -6].y,\n",
    "        df[df.fixLabel == -6].z,\n",
    "        color='purple',\n",
    "        marker='*',\n",
    "        label=\"start\",\n",
    "        s=200)\n",
    "    # 画终点\n",
    "    ax.scatter(\n",
    "        df[df.fixLabel == -66].x,\n",
    "        df[df.fixLabel == -66].y,\n",
    "        df[df.fixLabel == -66].z,\n",
    "        color='green',\n",
    "        marker='*',\n",
    "        label=\"end\",\n",
    "        s=200)\n",
    "\n",
    "    df = pd.read_table(\"../data/file2.txt\", header=0)\n",
    "    df.columns = [\"index\", \"x\", \"y\", \"z\", \"fixLabel\", \"fixError\"]\n",
    "\n",
    "    ax.scatter(\n",
    "        df[df.fixLabel == 0].x,\n",
    "        df[df.fixLabel == 0].y,\n",
    "        df[df.fixLabel == 0].z,\n",
    "        color='blue',\n",
    "        marker='.',\n",
    "        label=\"verticalFixPoint\",\n",
    "        s=10)\n",
    "\n",
    "    ax.scatter(\n",
    "        df[df.fixLabel == 1].x,\n",
    "        df[df.fixLabel == 1].y,\n",
    "        df[df.fixLabel == 1].z,\n",
    "        color='red',\n",
    "        marker='.',\n",
    "        label=\"horizontalFixPoint\",\n",
    "        s=10)\n",
    "\n",
    "    ax.legend()\n",
    "    plt.savefig(path)\n",
    "\n",
    "    plt.show()\n",
    "\n",
    "\n",
    "path = []\n",
    "path.append(\"../data/问题一/数据集1指标1/ga\")\n",
    "path.append(\"../data/问题一/数据集1指标1/short_path\")\n",
    "path.append(\"../data/问题一/数据集1指标1/min_fix_count_path\")\n",
    "\n",
    "path.append(\"../data/问题一/数据集1指标2/ga\")\n",
    "path.append(\"../data/问题一/数据集1指标2/short_path\")\n",
    "path.append(\"../data/问题一/数据集1指标2/min_fix_count_path\")\n",
    "\n",
    "path.append(\"../data/问题一/数据集2指标1/ga\")\n",
    "path.append(\"../data/问题一/数据集2指标1/short_path\")\n",
    "path.append(\"../data/问题一/数据集2指标1/min_fix_count_path\")\n",
    "\n",
    "path.append(\"../data/问题一/数据集2指标2/ga\")\n",
    "path.append(\"../data/问题一/数据集2指标2/short_path\")\n",
    "path.append(\"../data/问题一/数据集2指标2/min_fix_count_path\")\n",
    "\n",
    "########################\n",
    "path.append(\"../data/问题二/数据集1指标1/ga\")\n",
    "path.append(\"../data/问题二/数据集1指标1/short_path\")\n",
    "path.append(\"../data/问题二/数据集1指标1/min_fix_count_path\")\n",
    "\n",
    "path.append(\"../data/问题二/数据集1指标2/ga\")\n",
    "path.append(\"../data/问题二/数据集1指标2/short_path\")\n",
    "path.append(\"../data/问题二/数据集1指标2/min_fix_count_path\")\n",
    "\n",
    "path.append(\"../data/问题二/数据集2指标1/ga\")\n",
    "path.append(\"../data/问题二/数据集2指标1/short_path\")\n",
    "path.append(\"../data/问题二/数据集2指标1/min_fix_count_path\")\n",
    "\n",
    "path.append(\"../data/问题二/数据集2指标2/ga\")\n",
    "path.append(\"../data/问题二/数据集2指标2/short_path\")\n",
    "path.append(\"../data/问题二/数据集2指标2/min_fix_count_path\")\n",
    "\n",
    "########################\n",
    "path.append(\"../data/问题三/数据集1指标1/ga\")\n",
    "path.append(\"../data/问题三/数据集1指标1/short_path\")\n",
    "path.append(\"../data/问题三/数据集1指标1/min_fix_count_path\")\n",
    "\n",
    "path.append(\"../data/问题三/数据集1指标2/ga\")\n",
    "path.append(\"../data/问题三/数据集1指标2/short_path\")\n",
    "path.append(\"../data/问题三/数据集1指标2/min_fix_count_path\")\n",
    "\n",
    "path.append(\"../data/问题三/数据集2指标1/ga\")\n",
    "path.append(\"../data/问题三/数据集2指标1/short_path\")\n",
    "path.append(\"../data/问题三/数据集2指标1/min_fix_count_path\")\n",
    "\n",
    "path.append(\"../data/问题三/数据集2指标2/ga\")\n",
    "path.append(\"../data/问题三/数据集2指标2/short_path\")\n",
    "path.append(\"../data/问题三/数据集2指标2/min_fix_count_path\")\n",
    "\n",
    "for p in path:\n",
    "    df = pd.read_table(p + \".txt\", header=0, sep=\" \")\n",
    "    df = df.iloc[:, [True, True, True, True, True, True, False]]\n",
    "    df.columns = [\"index\", \"x\", \"y\", \"z\", \"fixLabel\", \"fixError\"]\n",
    "    draw(df, p + \".jpg\")"
   ]
  }
 ],
 "metadata": {
  "kernelspec": {
   "display_name": "Python 3",
   "language": "python",
   "name": "python3"
  },
  "language_info": {
   "codemirror_mode": {
    "name": "ipython",
    "version": 3
   },
   "file_extension": ".py",
   "mimetype": "text/x-python",
   "name": "python",
   "nbconvert_exporter": "python",
   "pygments_lexer": "ipython3",
   "version": "3.6.5"
  }
 },
 "nbformat": 4,
 "nbformat_minor": 2
}
